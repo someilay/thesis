{
 "cells": [
  {
   "cell_type": "code",
   "execution_count": 21,
   "id": "initial_id",
   "metadata": {
    "collapsed": true,
    "ExecuteTime": {
     "end_time": "2023-08-29T13:29:18.154405701Z",
     "start_time": "2023-08-29T13:29:17.997086360Z"
    }
   },
   "outputs": [],
   "source": [
    "import numpy as np\n",
    "import matplotlib.pyplot as plt\n",
    "\n",
    "from scipy.integrate import odeint\n",
    "from src import visualize_n_points\n",
    "\n",
    "np.set_printoptions(precision=3, suppress=True)"
   ]
  },
  {
   "cell_type": "markdown",
   "source": [
    "### System for consideration:\n",
    "\n",
    "<p align=\"center\">\n",
    "<img src=\"system.png\" alt=\"drawing\" width=\"100%\" style=\"margin:auto\"/>\n",
    "</p>\n",
    "\n",
    "* Here desired trajectory is dashed line\n",
    "* Desired law: $x_2^* = l$, $y_2^* = l(\\sin t - 0.2)$, or $\\mathbf{q}^d = \\begin{bmatrix} l & l(\\sin t + 0.2) \\end{bmatrix}^T$"
   ],
   "metadata": {
    "collapsed": false
   },
   "id": "ff8e09f4aebe73e3"
  },
  {
   "cell_type": "markdown",
   "source": [
    "## Proposed control\n",
    "\n",
    "$$\n",
    "\\begin{bmatrix}\n",
    "M(\\mathbf{q}) & J^T(\\mathbf{q}) & P^T \\\\\n",
    "J(\\mathbf{q}) & \\mathbf{0} & \\mathbf{0} \\\\\n",
    "P & \\mathbf{0} & \\mathbf{0}\n",
    "\\end{bmatrix}\n",
    "\\begin{bmatrix}\n",
    "\\mathbf{\\ddot{q}} \\\\\n",
    "\\mathbf{\\lambda} \\\\\n",
    "-\\mathbf{u}\n",
    "\\end{bmatrix}\n",
    "= \n",
    "\\begin{bmatrix}\n",
    "-h(\\mathbf{q}, \\mathbf{\\dot{q}}) \\\\\n",
    "-\\dot{J}(\\mathbf{q}) \\mathbf{\\dot{q}} \\\\\n",
    "\\mathbf{\\ddot{q}}^d - K_D \\mathbf{\\tilde{\\dot{q}}} - K_P \\mathbf{\\tilde{q}}\n",
    "\\end{bmatrix}\n",
    "$$\n",
    "\n",
    "where (in our case):\n",
    "\n",
    "$q = \\begin{bmatrix} x_1 & y_1 & x_2 & y_2 \\end{bmatrix}^T$, $u = \\begin{bmatrix} F_{x_2} & F_{y_2} \\end{bmatrix}^T$ and $P = \\begin{bmatrix} 0 & 0 & 1 & 0 \\\\ 0 & 0 & 0 & 1 \\end{bmatrix}$,\n",
    "$h(\\mathbf{q}, \\mathbf{\\dot{q}}) = C(\\mathbf{q}, \\mathbf{\\dot{q}}) \\mathbf{\\dot{q}} + g(\\mathbf{q}) = h(\\mathbf{q}, \\mathbf{\\dot{q}}) = \\begin{bmatrix} 0 & mg & 0 & mg \\end{bmatrix}^T$, $M(\\mathbf{q}) = m \\mathbf{I}_{4 \\times 4}$ and $J(\\mathbf{q}) = 2 \\begin{bmatrix} x_1 & y_1 & 0 & 0 \\\\ x_1 - x_2 & y_1 - y_2 & x_2 - x_1 & y_2 - y_1 \\end{bmatrix}$,\n",
    "$\\mathbf{\\ddot{q}}^d = \\begin{bmatrix} 0 & -l \\sin t \\end{bmatrix}^T$, $\\mathbf{\\tilde{\\dot{q}}} = \\begin{bmatrix} \\dot{x}_2 & \\dot{y}_2 - l \\cos t \\end{bmatrix}^T$ and $\\mathbf{\\tilde{q}} = \\begin{bmatrix} x_2 - l & y_2 - l (\\sin t + 0.2) \\end{bmatrix}^T$\n"
   ],
   "metadata": {
    "collapsed": false
   },
   "id": "ef92f284c42d2bef"
  },
  {
   "cell_type": "markdown",
   "source": [
    "## Initial conditions:\n",
    "\n",
    "$\\mathbf{q}_0 = \\begin{bmatrix} l & 0 & 2l & 0 \\end{bmatrix}^T$ and $\\mathbf{\\dot{q}}_0 = \\begin{bmatrix} 0 & 0 & 0 & 0 \\end{bmatrix}^T$"
   ],
   "metadata": {
    "collapsed": false
   },
   "id": "f35631492cc57dc4"
  },
  {
   "cell_type": "code",
   "execution_count": 75,
   "outputs": [],
   "source": [
    "L = 1\n",
    "M = 1\n",
    "G = 10\n",
    "Q_0 = np.array([L, 0, 2 * L, 0])\n",
    "DOT_Q_0 = np.array([0, 0, 0, 0])\n",
    "P_MAT = np.array([[0, 0, 1, 0], [0, 0, 0, 1]])\n",
    "K_D = 2 * np.eye(2)\n",
    "K_P = np.eye(2)\n",
    "\n",
    "\n",
    "def jac_constraint(q: np.ndarray) -> np.ndarray:\n",
    "    x_1, y_1, x_2, y_2 = q\n",
    "    return 2 * np.array(\n",
    "        [\n",
    "            [x_1, y_1, 0, 0],\n",
    "            [x_1 - x_2, y_1 - y_2, x_2 - x_1, y_2 - y_1],\n",
    "        ]\n",
    "    )\n",
    "\n",
    "\n",
    "def dot_jac_constraint(_: np.ndarray, dot_q: np.ndarray) -> np.ndarray:\n",
    "    dot_x_1, dot_y_1, dot_x_2, dot_y_2 = dot_q\n",
    "    return 2 * np.array(\n",
    "        [\n",
    "            [dot_x_1, dot_y_1, 0, 0],\n",
    "            [dot_x_1 - dot_x_2, dot_y_1 - dot_y_2, dot_x_2 - dot_x_1, dot_y_2 - dot_y_1],\n",
    "        ]\n",
    "    )\n",
    "\n",
    "\n",
    "def h_val(_: np.ndarray, __: np.ndarray) -> np.ndarray:\n",
    "    return np.array([0, M * G, 0, M * G])\n",
    "\n",
    "\n",
    "def mass_matrix(_: np.ndarray) -> np.ndarray:\n",
    "    return M * np.eye(4)\n",
    "\n",
    "\n",
    "def ddot_q_desired(t: float) -> np.ndarray:\n",
    "    return np.array([0, -L * np.sin(t)])\n",
    "\n",
    "\n",
    "def dot_q_tilda(dot_q: np.ndarray, t: float) -> np.ndarray:\n",
    "    _, _, dot_x_2, dot_y_2 = dot_q\n",
    "    return np.array([dot_x_2, dot_y_2 - L * np.cos(t)])\n",
    "\n",
    "\n",
    "def q_tilda(q: np.ndarray, t: float) -> np.ndarray:\n",
    "    _, _, x_2, y_2 = q\n",
    "    return np.array([x_2 - L, y_2 - L * (np.sin(t) + 0.2)])\n",
    "\n",
    "\n",
    "def full_matrix(q: np.ndarray) -> np.ndarray:\n",
    "    res = np.zeros((8, 8))\n",
    "\n",
    "    res[:4, :4] = mass_matrix(q)\n",
    "    res[:4, 4:6] = jac_constraint(q).T\n",
    "    res[4:6, :4] = jac_constraint(q)\n",
    "    res[:4, 6:] = P_MAT.T\n",
    "    res[6:, :4] = P_MAT\n",
    "\n",
    "    return res"
   ],
   "metadata": {
    "collapsed": false,
    "ExecuteTime": {
     "end_time": "2023-08-29T14:06:25.057193562Z",
     "start_time": "2023-08-29T14:06:25.014807434Z"
    }
   },
   "id": "7b83068e355a2cb4"
  },
  {
   "cell_type": "code",
   "execution_count": 76,
   "outputs": [
    {
     "name": "stdout",
     "output_type": "stream",
     "text": [
      "[[ 1.  0.  0.  0.  2. -2.  0.  0.]\n",
      " [ 0.  1.  0.  0.  0.  0.  0.  0.]\n",
      " [ 0.  0.  1.  0.  0.  2.  1.  0.]\n",
      " [ 0.  0.  0.  1.  0.  0.  0.  1.]\n",
      " [ 2.  0.  0.  0.  0.  0.  0.  0.]\n",
      " [-2.  0.  2.  0.  0.  0.  0.  0.]\n",
      " [ 0.  0.  1.  0.  0.  0.  0.  0.]\n",
      " [ 0.  0.  0.  1.  0.  0.  0.  0.]]\n"
     ]
    }
   ],
   "source": [
    "print(full_matrix(Q_0))  # <- Singular matrix"
   ],
   "metadata": {
    "collapsed": false,
    "ExecuteTime": {
     "end_time": "2023-08-29T14:06:28.486553487Z",
     "start_time": "2023-08-29T14:06:28.484245790Z"
    }
   },
   "id": "e964a5a198190e4f"
  },
  {
   "cell_type": "markdown",
   "source": [
    "## Why it's failed again?\n",
    "\n",
    "Consider leftmost matrix of proposed control as $N$, then:\n",
    "\n",
    "$$\n",
    "N = \n",
    "\\begin{bmatrix}\n",
    "M & B \\\\ B^T & 0\n",
    "\\end{bmatrix},\n",
    "\\: \\text{where} \\:\n",
    "B = \\begin{bmatrix} J^T & P^T \\end{bmatrix}\n",
    "$$\n",
    "\n",
    "Thus, Schur compliment would be: $N / M = -B^T M^{-1} B$, in our case ($m = 1$ and $l = 1$) $N / B = -B^T B$\n",
    "\n",
    "For initial moment of time: $B = \\begin{bmatrix} 2 & -2 & 0 & 0 \\\\ 0 & 0 & 0 & 0 \\\\ 0 & 2 & 1 & 0 \\\\ 0 & 0 & 0 & 1\\end{bmatrix}$ and $-B^T B = \\begin{bmatrix} -4 & 4 & 0 & 0 \\\\ 4 & -8 & -2 & 0 \\\\ 0 & -2 & -1 & 0 \\\\ 0 & 0 & 0 & -1\\end{bmatrix}$, so $\\text{rank}(-B^T B) = 3$\n",
    "\n",
    "Using Guttman rank additivity formula, we obtain $\\text{rank}(N) = \\text{rank}(M) + \\text{rank}(N / M) = 7$, but $N \\in \\mathbb{R}^{8 \\times 8}$. Therefore, $N$ is singular\n",
    "\n",
    "To conclude, if we want to achieve non-singularity of $N$, we should prove that $B$ is non-singular too\n"
   ],
   "metadata": {
    "collapsed": false
   },
   "id": "a9731286c98ec779"
  },
  {
   "cell_type": "markdown",
   "source": [
    "## Another initial conditions:\n",
    "\n",
    "$\\mathbf{q}_0 = \\begin{bmatrix} \\frac{l}{2} & \\frac{l \\sqrt{3}}{2} & l & 0 \\end{bmatrix}^T$ and $\\mathbf{\\dot{q}}_0 = \\begin{bmatrix} 0 & 0 & 0 & 0 \\end{bmatrix}^T$"
   ],
   "metadata": {
    "collapsed": false
   },
   "id": "4d2c69cd30fc5ca4"
  },
  {
   "cell_type": "code",
   "execution_count": 77,
   "outputs": [
    {
     "name": "stdout",
     "output_type": "stream",
     "text": [
      "[[ 1.     0.     0.     0.     1.    -1.     0.     0.   ]\n",
      " [ 0.     1.     0.     0.     1.732  1.732  0.     0.   ]\n",
      " [ 0.     0.     1.     0.     0.     1.     1.     0.   ]\n",
      " [ 0.     0.     0.     1.     0.    -1.732  0.     1.   ]\n",
      " [ 1.     1.732  0.     0.     0.     0.     0.     0.   ]\n",
      " [-1.     1.732  1.    -1.732  0.     0.     0.     0.   ]\n",
      " [ 0.     0.     1.     0.     0.     0.     0.     0.   ]\n",
      " [ 0.     0.     0.     1.     0.     0.     0.     0.   ]]\n"
     ]
    }
   ],
   "source": [
    "Q_0 = np.array([L / 2, L * np.sqrt(3) / 2, L, 0])\n",
    "\n",
    "print(full_matrix(Q_0))  # <- now it's non-singular"
   ],
   "metadata": {
    "collapsed": false,
    "ExecuteTime": {
     "end_time": "2023-08-29T14:06:31.205446084Z",
     "start_time": "2023-08-29T14:06:31.164592696Z"
    }
   },
   "id": "7db4ce0d18e0863b"
  },
  {
   "cell_type": "code",
   "execution_count": 78,
   "outputs": [],
   "source": [
    "def right_side(q: np.ndarray, dot_q: np.ndarray, t: float) -> np.ndarray:\n",
    "    h_v = h_val(q, dot_q)\n",
    "    dot_jac = dot_jac_constraint(q, dot_q)\n",
    "    dump = ddot_q_desired(t) - K_D.dot(dot_q_tilda(dot_q, t)) - K_P.dot(q_tilda(q, t))\n",
    "    return np.r_[-h_v, -dot_jac.dot(dot_q), dump]\n",
    "\n",
    "\n",
    "def state(x: np.ndarray, t: float) -> np.ndarray:\n",
    "    q = x[:4]\n",
    "    dot_q = x[4:]\n",
    "    right = right_side(q, dot_q, t)\n",
    "    n_mat = full_matrix(q)\n",
    "    try:\n",
    "        inv_n_mat = np.linalg.inv(n_mat)\n",
    "    except np.linalg.LinAlgError as e:\n",
    "        print(e)\n",
    "        print(q, dot_q, t)\n",
    "        print(n_mat)\n",
    "        exit(1)\n",
    "    return np.r_[dot_q, inv_n_mat.dot(right)[:4]]\n",
    "\n",
    "\n",
    "def control(x: np.ndarray, t: float) -> np.ndarray:\n",
    "    q = x[:4]\n",
    "    dot_q = x[4:]\n",
    "    right = right_side(q, dot_q, t)\n",
    "    n_mat = full_matrix(q)\n",
    "    try:\n",
    "        inv_n_mat = np.linalg.inv(n_mat)\n",
    "    except np.linalg.LinAlgError as e:\n",
    "        print(e)\n",
    "        print(q, dot_q, t)\n",
    "        print(n_mat)\n",
    "        exit(1)\n",
    "    return -inv_n_mat.dot(right)[-2:]"
   ],
   "metadata": {
    "collapsed": false,
    "ExecuteTime": {
     "end_time": "2023-08-29T14:06:33.338486779Z",
     "start_time": "2023-08-29T14:06:33.334695696Z"
    }
   },
   "id": "54b1d82062a6dd17"
  },
  {
   "cell_type": "code",
   "execution_count": 79,
   "outputs": [],
   "source": [
    "N = 1000\n",
    "T_FINAL = 10\n",
    "T_SPAN = np.linspace(0, T_FINAL, N)\n",
    "X_0 = np.r_[Q_0, DOT_Q_0]\n",
    "\n",
    "sol = odeint(state, X_0, T_SPAN)\n",
    "control_vals = np.array([control(x, t) for x, t in zip(sol, T_SPAN)])\n",
    "error = np.linalg.norm(np.array([q_tilda(q, t) for q, t in zip(sol[:, :4], T_SPAN)]), axis=1)"
   ],
   "metadata": {
    "collapsed": false,
    "ExecuteTime": {
     "end_time": "2023-08-29T14:06:35.982712960Z",
     "start_time": "2023-08-29T14:06:35.831811344Z"
    }
   },
   "id": "c8f279ed330292ab"
  },
  {
   "cell_type": "code",
   "execution_count": 80,
   "outputs": [
    {
     "data": {
      "text/plain": "<Figure size 800x800 with 1 Axes>",
      "image/png": "[encoded data removed]"
     },
     "metadata": {},
     "output_type": "display_data"
    },
    {
     "data": {
      "text/plain": "<matplotlib.animation.FuncAnimation at 0x7fb1044d9120>"
     },
     "execution_count": 80,
     "metadata": {},
     "output_type": "execute_result"
    }
   ],
   "source": [
    "visualize_n_points(\n",
    "    points=[np.zeros((N, 2)), sol[:, :2], sol[:, 2:4]],\n",
    "    lines_defs=[(0, 1), (1, 2)],\n",
    "    stats=[\n",
    "        ('$T$', T_SPAN), \n",
    "        ('$F_{x_2}$', control_vals[:, 0]),\n",
    "        ('$F_{y_2}$', control_vals[:, 1]),\n",
    "        ('$e^T e$', error),\n",
    "        ('$x_2$', sol[:, 2]),\n",
    "        ('$y_2$', sol[:, 3]),\n",
    "    ],\n",
    "    figsize=(8, 8),\n",
    "    dt=0.5,\n",
    ")"
   ],
   "metadata": {
    "collapsed": false,
    "ExecuteTime": {
     "end_time": "2023-08-29T14:07:11.198140066Z",
     "start_time": "2023-08-29T14:06:39.808242309Z"
    }
   },
   "id": "8fe4727697b82f4e"
  }
 ],
 "metadata": {
  "kernelspec": {
   "display_name": "Python 3",
   "language": "python",
   "name": "python3"
  },
  "language_info": {
   "codemirror_mode": {
    "name": "ipython",
    "version": 2
   },
   "file_extension": ".py",
   "mimetype": "text/x-python",
   "name": "python",
   "nbconvert_exporter": "python",
   "pygments_lexer": "ipython2",
   "version": "2.7.6"
  }
 },
 "nbformat": 4,
 "nbformat_minor": 5
}
