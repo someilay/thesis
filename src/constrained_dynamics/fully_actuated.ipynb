{
 "cells": [
  {
   "cell_type": "code",
   "execution_count": 1,
   "id": "initial_id",
   "metadata": {
    "collapsed": true,
    "ExecuteTime": {
     "end_time": "2023-08-06T12:59:19.016085057Z",
     "start_time": "2023-08-06T12:59:18.707961Z"
    }
   },
   "outputs": [],
   "source": [
    "import numpy as np\n",
    "\n",
    "from src import visualize_n_points"
   ]
  },
  {
   "cell_type": "markdown",
   "source": [
    "## Theory:\n",
    "\n",
    "$$\n",
    "\\begin{bmatrix}\n",
    "M(\\mathbf{q}) & J^T(\\mathbf{q}) & \\mathbf{I} \\\\\n",
    "J(\\mathbf{q}) & \\bold{0} & \\bold{0} \\\\\n",
    "\\mathbf{I} & \\bold{0} & \\bold{0}\n",
    "\\end{bmatrix}\n",
    "\\begin{bmatrix}\n",
    "\\mathbf{\\ddot{q}} \\\\\n",
    "\\mathbf{\\lambda} \\\\\n",
    "-\\mathbf{u}\n",
    "\\end{bmatrix}\n",
    "= \n",
    "\\begin{bmatrix}\n",
    "-h(\\mathbf{q}, \\mathbf{\\dot{q}}) \\\\\n",
    "\\dot{J}(\\mathbf{q}) \\mathbf{\\dot{q}} \\\\\n",
    "-\\mathbf{\\ddot{q}}^d - K_D \\mathbf{\\widetilde{\\dot{q}} - K_D \\mathbf{\\widetilde{q}}\n",
    "\\end{bmatrix}\n",
    "$$\n",
    "\n",
    "where, $h(\\mathbf{q}, \\mathbf{\\dot{q}}) = C(\\mathbf{q}, \\mathbf{\\dot{q}}) \\mathbf{\\dot{q}} + g(\\mathbf{q})$"
   ],
   "metadata": {
    "collapsed": false
   },
   "id": "7b9eeb4b89b306e6"
  },
  {
   "cell_type": "code",
   "execution_count": null,
   "outputs": [],
   "source": [
    "L = 1\n",
    "M = 1\n",
    "G = 10\n",
    "\n",
    "\n",
    "def jac_constraint(q: np.ndarray) -> np.ndarray:\n",
    "    x_1, y_1, x_2, y_2 = q\n",
    "    return np.array(\n",
    "        [\n",
    "            [2 * x_1, 2 * y_1, 0, 0],\n",
    "            [2 * (x_2 - x_1), 2 * (y_2 - y_1), 2 * (x_1 - x_2), 2 * (y_1 - y_2)],\n",
    "        ]\n",
    "    )\n",
    "\n",
    "\n",
    "def h_val(_: np.ndarray, __: np.ndarray) -> np.ndarray:\n",
    "    return np.array([0, M * G, 0, M * G])\n",
    "\n",
    "\n"
   ],
   "metadata": {
    "collapsed": false
   },
   "id": "fcb9c86896dfc751"
  }
 ],
 "metadata": {
  "kernelspec": {
   "display_name": "Python 3",
   "language": "python",
   "name": "python3"
  },
  "language_info": {
   "codemirror_mode": {
    "name": "ipython",
    "version": 2
   },
   "file_extension": ".py",
   "mimetype": "text/x-python",
   "name": "python",
   "nbconvert_exporter": "python",
   "pygments_lexer": "ipython2",
   "version": "2.7.6"
  }
 },
 "nbformat": 4,
 "nbformat_minor": 5
}
