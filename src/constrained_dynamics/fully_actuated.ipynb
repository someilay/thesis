{
 "cells": [
  {
   "cell_type": "code",
   "execution_count": 1,
   "id": "initial_id",
   "metadata": {
    "collapsed": true,
    "ExecuteTime": {
     "end_time": "2023-08-06T12:59:19.016085057Z",
     "start_time": "2023-08-06T12:59:18.707961Z"
    }
   },
   "outputs": [],
   "source": [
    "import numpy as np\n",
    "\n",
    "from src import visualize_n_points"
   ]
  },
  {
   "cell_type": "markdown",
   "source": [
    "## Theory:\n",
    "\n",
    "$$\n",
    "\\begin{bmatrix}\n",
    "M(\\mathbf{q}) & J^T(\\mathbf{q}) & \\mathbf{I} \\\\\n",
    "J(\\mathbf{q}) & \\mathbf{0} & \\mathbf{0} \\\\\n",
    "\\mathbf{I} & \\mathbf{0} & \\mathbf{0}\n",
    "\\end{bmatrix}\n",
    "\\begin{bmatrix}\n",
    "\\mathbf{\\ddot{q}} \\\\\n",
    "\\mathbf{\\lambda} \\\\\n",
    "-\\mathbf{u}\n",
    "\\end{bmatrix}\n",
    "= \n",
    "\\begin{bmatrix}\n",
    "-h(\\mathbf{q}, \\mathbf{\\dot{q}}) \\\\\n",
    "\\dot{J}(\\mathbf{q}) \\mathbf{\\dot{q}} \\\\\n",
    "-\\mathbf{\\ddot{q}}^d - K_D \\mathbf{\\tilde{\\dot{q}} - K_D \\mathbf{\\tilde{q}}\n",
    "\\end{bmatrix}\n",
    "$$\n",
    "\n",
    "where, $h(\\mathbf{q}, \\mathbf{\\dot{q}}) = C(\\mathbf{q}, \\mathbf{\\dot{q}}) \\mathbf{\\dot{q}} + g(\\mathbf{q})$"
   ],
   "metadata": {
    "collapsed": false
   },
   "id": "7b9eeb4b89b306e6"
  },
  {
   "cell_type": "code",
   "execution_count": 5,
   "outputs": [],
   "source": [
    "L = 1\n",
    "M = 1\n",
    "G = 10\n",
    "\n",
    "\n",
    "def jac_constraint(q: np.ndarray) -> np.ndarray:\n",
    "    x_1, y_1, x_2, y_2 = q\n",
    "    return np.array(\n",
    "        [\n",
    "            [2 * x_1, 2 * y_1, 0, 0],\n",
    "            [2 * (x_2 - x_1), 2 * (y_2 - y_1), 2 * (x_1 - x_2), 2 * (y_1 - y_2)],\n",
    "        ]\n",
    "    )\n",
    "\n",
    "\n",
    "def dot_jac_constraint(_: np.ndarray, dot_q: np.ndarray) -> np.ndarray:\n",
    "    dot_x_1, dot_y_1, dot_x_2, dot_y_2 = dot_q\n",
    "    return np.array(\n",
    "        [\n",
    "            [2 * dot_x_1, 2 * dot_y_1, 0, 0],\n",
    "            [2 * (dot_x_2 - dot_x_1), 2 * (dot_y_2 - dot_y_1), 2 * (dot_x_1 - dot_x_2), 2 * (dot_y_1 - dot_y_2)],\n",
    "        ]\n",
    "    )\n",
    "\n",
    "\n",
    "def h_val(_: np.ndarray, __: np.ndarray) -> np.ndarray:\n",
    "    return np.array([0, M * G, 0, M * G])\n",
    "\n",
    "\n",
    "def mass_matrix(_: np.ndarray) -> np.ndarray:\n",
    "    return M * np.eye(4)"
   ],
   "metadata": {
    "collapsed": false,
    "ExecuteTime": {
     "end_time": "2023-08-06T13:56:50.772164770Z",
     "start_time": "2023-08-06T13:56:50.730402875Z"
    }
   },
   "id": "fcb9c86896dfc751"
  },
  {
   "cell_type": "code",
   "execution_count": 7,
   "outputs": [],
   "source": [
    "def full_matrix(q: np.ndarray) -> np.ndarray:\n",
    "    res = np.zeros((10, 10))\n",
    "\n",
    "    res[:4,:4] = mass_matrix(q)\n",
    "    res[:4,4:6] = jac_constraint(q).T\n",
    "    res[4:6, :4] = jac_constraint(q)\n",
    "    res[:4, 6:] = np.eye(4)\n",
    "    res[6:, :4] = np.eye(4)\n",
    "\n",
    "    return res"
   ],
   "metadata": {
    "collapsed": false,
    "ExecuteTime": {
     "end_time": "2023-08-06T13:58:08.399025550Z",
     "start_time": "2023-08-06T13:58:08.378133978Z"
    }
   },
   "id": "e21533c4260520ec"
  },
  {
   "cell_type": "code",
   "execution_count": 12,
   "outputs": [
    {
     "name": "stdout",
     "output_type": "stream",
     "text": [
      "[[ 1.  0.  0.  0.  2.  2.  1.  0.  0.  0.]\n",
      " [ 0.  1.  0.  0.  0.  0.  0.  1.  0.  0.]\n",
      " [ 0.  0.  1.  0.  0. -2.  0.  0.  1.  0.]\n",
      " [ 0.  0.  0.  1.  0.  0.  0.  0.  0.  1.]\n",
      " [ 2.  0.  0.  0.  0.  0.  0.  0.  0.  0.]\n",
      " [ 2.  0. -2.  0.  0.  0.  0.  0.  0.  0.]\n",
      " [ 1.  0.  0.  0.  0.  0.  0.  0.  0.  0.]\n",
      " [ 0.  1.  0.  0.  0.  0.  0.  0.  0.  0.]\n",
      " [ 0.  0.  1.  0.  0.  0.  0.  0.  0.  0.]\n",
      " [ 0.  0.  0.  1.  0.  0.  0.  0.  0.  0.]]\n"
     ]
    }
   ],
   "source": [
    "full = full_matrix(np.array([1, 0, 2, 0]))\n",
    "\n",
    "print(full) # A singular case!"
   ],
   "metadata": {
    "collapsed": false,
    "ExecuteTime": {
     "end_time": "2023-08-06T13:59:38.229836041Z",
     "start_time": "2023-08-06T13:59:38.222840038Z"
    }
   },
   "id": "48e0eaccb7416f30"
  }
 ],
 "metadata": {
  "kernelspec": {
   "display_name": "Python 3",
   "language": "python",
   "name": "python3"
  },
  "language_info": {
   "codemirror_mode": {
    "name": "ipython",
    "version": 2
   },
   "file_extension": ".py",
   "mimetype": "text/x-python",
   "name": "python",
   "nbconvert_exporter": "python",
   "pygments_lexer": "ipython2",
   "version": "2.7.6"
  }
 },
 "nbformat": 4,
 "nbformat_minor": 5
}
